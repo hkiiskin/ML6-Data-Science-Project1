{
 "cells": [
  {
   "cell_type": "markdown",
   "id": "78764f59",
   "metadata": {},
   "source": [
    "# Data Science project 1, Diabetes Health Indicators\n",
    "\n",
    "## ML6, Integrify\n",
    "\n",
    "### Hannu Kiiskinen, 21.11.2023"
   ]
  },
  {
   "cell_type": "code",
   "execution_count": 1,
   "id": "e37e9e33",
   "metadata": {},
   "outputs": [],
   "source": [
    "import numpy as np\n",
    "import pandas as pd\n",
    "import seaborn as sns\n",
    "import matplotlib.pyplot as plt\n",
    "import scipy.stats as stats\n",
    "from scipy.stats import chi2_contingency\n",
    "from scipy.stats import f, f_oneway\n",
    "from sklearn.ensemble import RandomForestClassifier"
   ]
  },
  {
   "cell_type": "markdown",
   "id": "0fe8109b",
   "metadata": {},
   "source": [
    "## Descriptive statistics\n",
    "\n",
    "### Dataset\n",
    "\n",
    "Diabetes Health Indicators Dataset from Kaggle. Data collection year is 2015.\n",
    "\n",
    "https://www.kaggle.com/datasets/alexteboul/diabetes-health-indicators-dataset\n",
    "\n",
    "The Behavioral Risk Factor Surveillance System (BRFSS) is a health-related telephone survey that is collected annually by the CDC. Each year, the survey collects responses from over 400,000 Americans on health-related risk behaviors, chronic health conditions, and the use of preventative services.\n",
    "\n",
    "License: CC0, Public Domain"
   ]
  },
  {
   "cell_type": "code",
   "execution_count": 2,
   "id": "2d3b6dbd",
   "metadata": {},
   "outputs": [
    {
     "data": {
      "text/html": [
       "<div>\n",
       "<style scoped>\n",
       "    .dataframe tbody tr th:only-of-type {\n",
       "        vertical-align: middle;\n",
       "    }\n",
       "\n",
       "    .dataframe tbody tr th {\n",
       "        vertical-align: top;\n",
       "    }\n",
       "\n",
       "    .dataframe thead th {\n",
       "        text-align: right;\n",
       "    }\n",
       "</style>\n",
       "<table border=\"1\" class=\"dataframe\">\n",
       "  <thead>\n",
       "    <tr style=\"text-align: right;\">\n",
       "      <th></th>\n",
       "      <th>Diabetes_binary</th>\n",
       "      <th>HighBP</th>\n",
       "      <th>HighChol</th>\n",
       "      <th>CholCheck</th>\n",
       "      <th>BMI</th>\n",
       "      <th>Smoker</th>\n",
       "      <th>Stroke</th>\n",
       "      <th>HeartDiseaseorAttack</th>\n",
       "      <th>PhysActivity</th>\n",
       "      <th>Fruits</th>\n",
       "      <th>...</th>\n",
       "      <th>AnyHealthcare</th>\n",
       "      <th>NoDocbcCost</th>\n",
       "      <th>GenHlth</th>\n",
       "      <th>MentHlth</th>\n",
       "      <th>PhysHlth</th>\n",
       "      <th>DiffWalk</th>\n",
       "      <th>Sex</th>\n",
       "      <th>Age</th>\n",
       "      <th>Education</th>\n",
       "      <th>Income</th>\n",
       "    </tr>\n",
       "  </thead>\n",
       "  <tbody>\n",
       "    <tr>\n",
       "      <th>0</th>\n",
       "      <td>0.0</td>\n",
       "      <td>1.0</td>\n",
       "      <td>1.0</td>\n",
       "      <td>1.0</td>\n",
       "      <td>40.0</td>\n",
       "      <td>1.0</td>\n",
       "      <td>0.0</td>\n",
       "      <td>0.0</td>\n",
       "      <td>0.0</td>\n",
       "      <td>0.0</td>\n",
       "      <td>...</td>\n",
       "      <td>1.0</td>\n",
       "      <td>0.0</td>\n",
       "      <td>5.0</td>\n",
       "      <td>18.0</td>\n",
       "      <td>15.0</td>\n",
       "      <td>1.0</td>\n",
       "      <td>0.0</td>\n",
       "      <td>9.0</td>\n",
       "      <td>4.0</td>\n",
       "      <td>3.0</td>\n",
       "    </tr>\n",
       "    <tr>\n",
       "      <th>1</th>\n",
       "      <td>0.0</td>\n",
       "      <td>0.0</td>\n",
       "      <td>0.0</td>\n",
       "      <td>0.0</td>\n",
       "      <td>25.0</td>\n",
       "      <td>1.0</td>\n",
       "      <td>0.0</td>\n",
       "      <td>0.0</td>\n",
       "      <td>1.0</td>\n",
       "      <td>0.0</td>\n",
       "      <td>...</td>\n",
       "      <td>0.0</td>\n",
       "      <td>1.0</td>\n",
       "      <td>3.0</td>\n",
       "      <td>0.0</td>\n",
       "      <td>0.0</td>\n",
       "      <td>0.0</td>\n",
       "      <td>0.0</td>\n",
       "      <td>7.0</td>\n",
       "      <td>6.0</td>\n",
       "      <td>1.0</td>\n",
       "    </tr>\n",
       "    <tr>\n",
       "      <th>2</th>\n",
       "      <td>0.0</td>\n",
       "      <td>1.0</td>\n",
       "      <td>1.0</td>\n",
       "      <td>1.0</td>\n",
       "      <td>28.0</td>\n",
       "      <td>0.0</td>\n",
       "      <td>0.0</td>\n",
       "      <td>0.0</td>\n",
       "      <td>0.0</td>\n",
       "      <td>1.0</td>\n",
       "      <td>...</td>\n",
       "      <td>1.0</td>\n",
       "      <td>1.0</td>\n",
       "      <td>5.0</td>\n",
       "      <td>30.0</td>\n",
       "      <td>30.0</td>\n",
       "      <td>1.0</td>\n",
       "      <td>0.0</td>\n",
       "      <td>9.0</td>\n",
       "      <td>4.0</td>\n",
       "      <td>8.0</td>\n",
       "    </tr>\n",
       "    <tr>\n",
       "      <th>3</th>\n",
       "      <td>0.0</td>\n",
       "      <td>1.0</td>\n",
       "      <td>0.0</td>\n",
       "      <td>1.0</td>\n",
       "      <td>27.0</td>\n",
       "      <td>0.0</td>\n",
       "      <td>0.0</td>\n",
       "      <td>0.0</td>\n",
       "      <td>1.0</td>\n",
       "      <td>1.0</td>\n",
       "      <td>...</td>\n",
       "      <td>1.0</td>\n",
       "      <td>0.0</td>\n",
       "      <td>2.0</td>\n",
       "      <td>0.0</td>\n",
       "      <td>0.0</td>\n",
       "      <td>0.0</td>\n",
       "      <td>0.0</td>\n",
       "      <td>11.0</td>\n",
       "      <td>3.0</td>\n",
       "      <td>6.0</td>\n",
       "    </tr>\n",
       "    <tr>\n",
       "      <th>4</th>\n",
       "      <td>0.0</td>\n",
       "      <td>1.0</td>\n",
       "      <td>1.0</td>\n",
       "      <td>1.0</td>\n",
       "      <td>24.0</td>\n",
       "      <td>0.0</td>\n",
       "      <td>0.0</td>\n",
       "      <td>0.0</td>\n",
       "      <td>1.0</td>\n",
       "      <td>1.0</td>\n",
       "      <td>...</td>\n",
       "      <td>1.0</td>\n",
       "      <td>0.0</td>\n",
       "      <td>2.0</td>\n",
       "      <td>3.0</td>\n",
       "      <td>0.0</td>\n",
       "      <td>0.0</td>\n",
       "      <td>0.0</td>\n",
       "      <td>11.0</td>\n",
       "      <td>5.0</td>\n",
       "      <td>4.0</td>\n",
       "    </tr>\n",
       "  </tbody>\n",
       "</table>\n",
       "<p>5 rows × 22 columns</p>\n",
       "</div>"
      ],
      "text/plain": [
       "   Diabetes_binary  HighBP  HighChol  CholCheck   BMI  Smoker  Stroke  \\\n",
       "0              0.0     1.0       1.0        1.0  40.0     1.0     0.0   \n",
       "1              0.0     0.0       0.0        0.0  25.0     1.0     0.0   \n",
       "2              0.0     1.0       1.0        1.0  28.0     0.0     0.0   \n",
       "3              0.0     1.0       0.0        1.0  27.0     0.0     0.0   \n",
       "4              0.0     1.0       1.0        1.0  24.0     0.0     0.0   \n",
       "\n",
       "   HeartDiseaseorAttack  PhysActivity  Fruits  ...  AnyHealthcare  \\\n",
       "0                   0.0           0.0     0.0  ...            1.0   \n",
       "1                   0.0           1.0     0.0  ...            0.0   \n",
       "2                   0.0           0.0     1.0  ...            1.0   \n",
       "3                   0.0           1.0     1.0  ...            1.0   \n",
       "4                   0.0           1.0     1.0  ...            1.0   \n",
       "\n",
       "   NoDocbcCost  GenHlth  MentHlth  PhysHlth  DiffWalk  Sex   Age  Education  \\\n",
       "0          0.0      5.0      18.0      15.0       1.0  0.0   9.0        4.0   \n",
       "1          1.0      3.0       0.0       0.0       0.0  0.0   7.0        6.0   \n",
       "2          1.0      5.0      30.0      30.0       1.0  0.0   9.0        4.0   \n",
       "3          0.0      2.0       0.0       0.0       0.0  0.0  11.0        3.0   \n",
       "4          0.0      2.0       3.0       0.0       0.0  0.0  11.0        5.0   \n",
       "\n",
       "   Income  \n",
       "0     3.0  \n",
       "1     1.0  \n",
       "2     8.0  \n",
       "3     6.0  \n",
       "4     4.0  \n",
       "\n",
       "[5 rows x 22 columns]"
      ]
     },
     "execution_count": 2,
     "metadata": {},
     "output_type": "execute_result"
    }
   ],
   "source": [
    "# Loading the data\n",
    "df = pd.read_csv(\"DS_Project1/diabetes_binary_health_indicators_BRFSS2015.csv\")\n",
    "df.head()"
   ]
  },
  {
   "cell_type": "markdown",
   "id": "a0d803a5",
   "metadata": {},
   "source": [
    "## Data review\n",
    "\n",
    "- 253680 entries\n",
    "- 22 columns (including 1 label)\n",
    "- all float data type\n",
    "- no missing values"
   ]
  },
  {
   "cell_type": "code",
   "execution_count": 3,
   "id": "bc96cdd5",
   "metadata": {},
   "outputs": [
    {
     "name": "stdout",
     "output_type": "stream",
     "text": [
      "<class 'pandas.core.frame.DataFrame'>\n",
      "RangeIndex: 253680 entries, 0 to 253679\n",
      "Data columns (total 22 columns):\n",
      " #   Column                Non-Null Count   Dtype  \n",
      "---  ------                --------------   -----  \n",
      " 0   Diabetes_binary       253680 non-null  float64\n",
      " 1   HighBP                253680 non-null  float64\n",
      " 2   HighChol              253680 non-null  float64\n",
      " 3   CholCheck             253680 non-null  float64\n",
      " 4   BMI                   253680 non-null  float64\n",
      " 5   Smoker                253680 non-null  float64\n",
      " 6   Stroke                253680 non-null  float64\n",
      " 7   HeartDiseaseorAttack  253680 non-null  float64\n",
      " 8   PhysActivity          253680 non-null  float64\n",
      " 9   Fruits                253680 non-null  float64\n",
      " 10  Veggies               253680 non-null  float64\n",
      " 11  HvyAlcoholConsump     253680 non-null  float64\n",
      " 12  AnyHealthcare         253680 non-null  float64\n",
      " 13  NoDocbcCost           253680 non-null  float64\n",
      " 14  GenHlth               253680 non-null  float64\n",
      " 15  MentHlth              253680 non-null  float64\n",
      " 16  PhysHlth              253680 non-null  float64\n",
      " 17  DiffWalk              253680 non-null  float64\n",
      " 18  Sex                   253680 non-null  float64\n",
      " 19  Age                   253680 non-null  float64\n",
      " 20  Education             253680 non-null  float64\n",
      " 21  Income                253680 non-null  float64\n",
      "dtypes: float64(22)\n",
      "memory usage: 42.6 MB\n"
     ]
    }
   ],
   "source": [
    "df.info()"
   ]
  },
  {
   "cell_type": "code",
   "execution_count": 4,
   "id": "90cadc9c",
   "metadata": {},
   "outputs": [
    {
     "data": {
      "text/plain": [
       "Diabetes_binary          2\n",
       "HighBP                   2\n",
       "HighChol                 2\n",
       "CholCheck                2\n",
       "BMI                     84\n",
       "Smoker                   2\n",
       "Stroke                   2\n",
       "HeartDiseaseorAttack     2\n",
       "PhysActivity             2\n",
       "Fruits                   2\n",
       "Veggies                  2\n",
       "HvyAlcoholConsump        2\n",
       "AnyHealthcare            2\n",
       "NoDocbcCost              2\n",
       "GenHlth                  5\n",
       "MentHlth                31\n",
       "PhysHlth                31\n",
       "DiffWalk                 2\n",
       "Sex                      2\n",
       "Age                     13\n",
       "Education                6\n",
       "Income                   8\n",
       "dtype: int64"
      ]
     },
     "execution_count": 4,
     "metadata": {},
     "output_type": "execute_result"
    }
   ],
   "source": [
    "df.nunique()"
   ]
  },
  {
   "cell_type": "markdown",
   "id": "b33a8724",
   "metadata": {},
   "source": [
    "### Distribution of data"
   ]
  },
  {
   "cell_type": "code",
   "execution_count": 5,
   "id": "b8bf979d",
   "metadata": {},
   "outputs": [
    {
     "data": {
      "text/html": [
       "<div>\n",
       "<style scoped>\n",
       "    .dataframe tbody tr th:only-of-type {\n",
       "        vertical-align: middle;\n",
       "    }\n",
       "\n",
       "    .dataframe tbody tr th {\n",
       "        vertical-align: top;\n",
       "    }\n",
       "\n",
       "    .dataframe thead th {\n",
       "        text-align: right;\n",
       "    }\n",
       "</style>\n",
       "<table border=\"1\" class=\"dataframe\">\n",
       "  <thead>\n",
       "    <tr style=\"text-align: right;\">\n",
       "      <th></th>\n",
       "      <th>Diabetes_binary</th>\n",
       "      <th>HighBP</th>\n",
       "      <th>HighChol</th>\n",
       "      <th>CholCheck</th>\n",
       "      <th>BMI</th>\n",
       "      <th>Smoker</th>\n",
       "      <th>Stroke</th>\n",
       "      <th>HeartDiseaseorAttack</th>\n",
       "      <th>PhysActivity</th>\n",
       "      <th>Fruits</th>\n",
       "      <th>...</th>\n",
       "      <th>AnyHealthcare</th>\n",
       "      <th>NoDocbcCost</th>\n",
       "      <th>GenHlth</th>\n",
       "      <th>MentHlth</th>\n",
       "      <th>PhysHlth</th>\n",
       "      <th>DiffWalk</th>\n",
       "      <th>Sex</th>\n",
       "      <th>Age</th>\n",
       "      <th>Education</th>\n",
       "      <th>Income</th>\n",
       "    </tr>\n",
       "  </thead>\n",
       "  <tbody>\n",
       "    <tr>\n",
       "      <th>count</th>\n",
       "      <td>253680.000000</td>\n",
       "      <td>253680.000000</td>\n",
       "      <td>253680.000000</td>\n",
       "      <td>253680.000000</td>\n",
       "      <td>253680.000000</td>\n",
       "      <td>253680.000000</td>\n",
       "      <td>253680.000000</td>\n",
       "      <td>253680.000000</td>\n",
       "      <td>253680.000000</td>\n",
       "      <td>253680.000000</td>\n",
       "      <td>...</td>\n",
       "      <td>253680.000000</td>\n",
       "      <td>253680.000000</td>\n",
       "      <td>253680.000000</td>\n",
       "      <td>253680.000000</td>\n",
       "      <td>253680.000000</td>\n",
       "      <td>253680.000000</td>\n",
       "      <td>253680.000000</td>\n",
       "      <td>253680.000000</td>\n",
       "      <td>253680.000000</td>\n",
       "      <td>253680.000000</td>\n",
       "    </tr>\n",
       "    <tr>\n",
       "      <th>mean</th>\n",
       "      <td>0.139333</td>\n",
       "      <td>0.429001</td>\n",
       "      <td>0.424121</td>\n",
       "      <td>0.962670</td>\n",
       "      <td>28.382364</td>\n",
       "      <td>0.443169</td>\n",
       "      <td>0.040571</td>\n",
       "      <td>0.094186</td>\n",
       "      <td>0.756544</td>\n",
       "      <td>0.634256</td>\n",
       "      <td>...</td>\n",
       "      <td>0.951053</td>\n",
       "      <td>0.084177</td>\n",
       "      <td>2.511392</td>\n",
       "      <td>3.184772</td>\n",
       "      <td>4.242081</td>\n",
       "      <td>0.168224</td>\n",
       "      <td>0.440342</td>\n",
       "      <td>8.032119</td>\n",
       "      <td>5.050434</td>\n",
       "      <td>6.053875</td>\n",
       "    </tr>\n",
       "    <tr>\n",
       "      <th>std</th>\n",
       "      <td>0.346294</td>\n",
       "      <td>0.494934</td>\n",
       "      <td>0.494210</td>\n",
       "      <td>0.189571</td>\n",
       "      <td>6.608694</td>\n",
       "      <td>0.496761</td>\n",
       "      <td>0.197294</td>\n",
       "      <td>0.292087</td>\n",
       "      <td>0.429169</td>\n",
       "      <td>0.481639</td>\n",
       "      <td>...</td>\n",
       "      <td>0.215759</td>\n",
       "      <td>0.277654</td>\n",
       "      <td>1.068477</td>\n",
       "      <td>7.412847</td>\n",
       "      <td>8.717951</td>\n",
       "      <td>0.374066</td>\n",
       "      <td>0.496429</td>\n",
       "      <td>3.054220</td>\n",
       "      <td>0.985774</td>\n",
       "      <td>2.071148</td>\n",
       "    </tr>\n",
       "    <tr>\n",
       "      <th>min</th>\n",
       "      <td>0.000000</td>\n",
       "      <td>0.000000</td>\n",
       "      <td>0.000000</td>\n",
       "      <td>0.000000</td>\n",
       "      <td>12.000000</td>\n",
       "      <td>0.000000</td>\n",
       "      <td>0.000000</td>\n",
       "      <td>0.000000</td>\n",
       "      <td>0.000000</td>\n",
       "      <td>0.000000</td>\n",
       "      <td>...</td>\n",
       "      <td>0.000000</td>\n",
       "      <td>0.000000</td>\n",
       "      <td>1.000000</td>\n",
       "      <td>0.000000</td>\n",
       "      <td>0.000000</td>\n",
       "      <td>0.000000</td>\n",
       "      <td>0.000000</td>\n",
       "      <td>1.000000</td>\n",
       "      <td>1.000000</td>\n",
       "      <td>1.000000</td>\n",
       "    </tr>\n",
       "    <tr>\n",
       "      <th>25%</th>\n",
       "      <td>0.000000</td>\n",
       "      <td>0.000000</td>\n",
       "      <td>0.000000</td>\n",
       "      <td>1.000000</td>\n",
       "      <td>24.000000</td>\n",
       "      <td>0.000000</td>\n",
       "      <td>0.000000</td>\n",
       "      <td>0.000000</td>\n",
       "      <td>1.000000</td>\n",
       "      <td>0.000000</td>\n",
       "      <td>...</td>\n",
       "      <td>1.000000</td>\n",
       "      <td>0.000000</td>\n",
       "      <td>2.000000</td>\n",
       "      <td>0.000000</td>\n",
       "      <td>0.000000</td>\n",
       "      <td>0.000000</td>\n",
       "      <td>0.000000</td>\n",
       "      <td>6.000000</td>\n",
       "      <td>4.000000</td>\n",
       "      <td>5.000000</td>\n",
       "    </tr>\n",
       "    <tr>\n",
       "      <th>50%</th>\n",
       "      <td>0.000000</td>\n",
       "      <td>0.000000</td>\n",
       "      <td>0.000000</td>\n",
       "      <td>1.000000</td>\n",
       "      <td>27.000000</td>\n",
       "      <td>0.000000</td>\n",
       "      <td>0.000000</td>\n",
       "      <td>0.000000</td>\n",
       "      <td>1.000000</td>\n",
       "      <td>1.000000</td>\n",
       "      <td>...</td>\n",
       "      <td>1.000000</td>\n",
       "      <td>0.000000</td>\n",
       "      <td>2.000000</td>\n",
       "      <td>0.000000</td>\n",
       "      <td>0.000000</td>\n",
       "      <td>0.000000</td>\n",
       "      <td>0.000000</td>\n",
       "      <td>8.000000</td>\n",
       "      <td>5.000000</td>\n",
       "      <td>7.000000</td>\n",
       "    </tr>\n",
       "    <tr>\n",
       "      <th>75%</th>\n",
       "      <td>0.000000</td>\n",
       "      <td>1.000000</td>\n",
       "      <td>1.000000</td>\n",
       "      <td>1.000000</td>\n",
       "      <td>31.000000</td>\n",
       "      <td>1.000000</td>\n",
       "      <td>0.000000</td>\n",
       "      <td>0.000000</td>\n",
       "      <td>1.000000</td>\n",
       "      <td>1.000000</td>\n",
       "      <td>...</td>\n",
       "      <td>1.000000</td>\n",
       "      <td>0.000000</td>\n",
       "      <td>3.000000</td>\n",
       "      <td>2.000000</td>\n",
       "      <td>3.000000</td>\n",
       "      <td>0.000000</td>\n",
       "      <td>1.000000</td>\n",
       "      <td>10.000000</td>\n",
       "      <td>6.000000</td>\n",
       "      <td>8.000000</td>\n",
       "    </tr>\n",
       "    <tr>\n",
       "      <th>max</th>\n",
       "      <td>1.000000</td>\n",
       "      <td>1.000000</td>\n",
       "      <td>1.000000</td>\n",
       "      <td>1.000000</td>\n",
       "      <td>98.000000</td>\n",
       "      <td>1.000000</td>\n",
       "      <td>1.000000</td>\n",
       "      <td>1.000000</td>\n",
       "      <td>1.000000</td>\n",
       "      <td>1.000000</td>\n",
       "      <td>...</td>\n",
       "      <td>1.000000</td>\n",
       "      <td>1.000000</td>\n",
       "      <td>5.000000</td>\n",
       "      <td>30.000000</td>\n",
       "      <td>30.000000</td>\n",
       "      <td>1.000000</td>\n",
       "      <td>1.000000</td>\n",
       "      <td>13.000000</td>\n",
       "      <td>6.000000</td>\n",
       "      <td>8.000000</td>\n",
       "    </tr>\n",
       "  </tbody>\n",
       "</table>\n",
       "<p>8 rows × 22 columns</p>\n",
       "</div>"
      ],
      "text/plain": [
       "       Diabetes_binary         HighBP       HighChol      CholCheck  \\\n",
       "count    253680.000000  253680.000000  253680.000000  253680.000000   \n",
       "mean          0.139333       0.429001       0.424121       0.962670   \n",
       "std           0.346294       0.494934       0.494210       0.189571   \n",
       "min           0.000000       0.000000       0.000000       0.000000   \n",
       "25%           0.000000       0.000000       0.000000       1.000000   \n",
       "50%           0.000000       0.000000       0.000000       1.000000   \n",
       "75%           0.000000       1.000000       1.000000       1.000000   \n",
       "max           1.000000       1.000000       1.000000       1.000000   \n",
       "\n",
       "                 BMI         Smoker         Stroke  HeartDiseaseorAttack  \\\n",
       "count  253680.000000  253680.000000  253680.000000         253680.000000   \n",
       "mean       28.382364       0.443169       0.040571              0.094186   \n",
       "std         6.608694       0.496761       0.197294              0.292087   \n",
       "min        12.000000       0.000000       0.000000              0.000000   \n",
       "25%        24.000000       0.000000       0.000000              0.000000   \n",
       "50%        27.000000       0.000000       0.000000              0.000000   \n",
       "75%        31.000000       1.000000       0.000000              0.000000   \n",
       "max        98.000000       1.000000       1.000000              1.000000   \n",
       "\n",
       "        PhysActivity         Fruits  ...  AnyHealthcare    NoDocbcCost  \\\n",
       "count  253680.000000  253680.000000  ...  253680.000000  253680.000000   \n",
       "mean        0.756544       0.634256  ...       0.951053       0.084177   \n",
       "std         0.429169       0.481639  ...       0.215759       0.277654   \n",
       "min         0.000000       0.000000  ...       0.000000       0.000000   \n",
       "25%         1.000000       0.000000  ...       1.000000       0.000000   \n",
       "50%         1.000000       1.000000  ...       1.000000       0.000000   \n",
       "75%         1.000000       1.000000  ...       1.000000       0.000000   \n",
       "max         1.000000       1.000000  ...       1.000000       1.000000   \n",
       "\n",
       "             GenHlth       MentHlth       PhysHlth       DiffWalk  \\\n",
       "count  253680.000000  253680.000000  253680.000000  253680.000000   \n",
       "mean        2.511392       3.184772       4.242081       0.168224   \n",
       "std         1.068477       7.412847       8.717951       0.374066   \n",
       "min         1.000000       0.000000       0.000000       0.000000   \n",
       "25%         2.000000       0.000000       0.000000       0.000000   \n",
       "50%         2.000000       0.000000       0.000000       0.000000   \n",
       "75%         3.000000       2.000000       3.000000       0.000000   \n",
       "max         5.000000      30.000000      30.000000       1.000000   \n",
       "\n",
       "                 Sex            Age      Education         Income  \n",
       "count  253680.000000  253680.000000  253680.000000  253680.000000  \n",
       "mean        0.440342       8.032119       5.050434       6.053875  \n",
       "std         0.496429       3.054220       0.985774       2.071148  \n",
       "min         0.000000       1.000000       1.000000       1.000000  \n",
       "25%         0.000000       6.000000       4.000000       5.000000  \n",
       "50%         0.000000       8.000000       5.000000       7.000000  \n",
       "75%         1.000000      10.000000       6.000000       8.000000  \n",
       "max         1.000000      13.000000       6.000000       8.000000  \n",
       "\n",
       "[8 rows x 22 columns]"
      ]
     },
     "execution_count": 5,
     "metadata": {},
     "output_type": "execute_result"
    }
   ],
   "source": [
    "df.describe()"
   ]
  },
  {
   "cell_type": "markdown",
   "id": "6ce535f9",
   "metadata": {},
   "source": [
    "### Factors (meaning of the columns)\n",
    "\n",
    "Most of the factors are having binary values 0/1, excpetions are marked as <font color='red'>red</font>, continuous Factors are <strong><font color='green'>BMI, MentHlth and PhysHlth</font></strong>.\n",
    "\n",
    "- Diabetes_binary, 0 = no diabetes, 1 = diabetes\n",
    "- HighBP, 0 = no high Blod Pressure, 1 = high Blod Pressure\n",
    "- HighChol, 0 = no high cholesterol, 1 = high cholesterol\n",
    "- CholCheck, 0 = no check, 1 = cholesterol checked in 5 years\n",
    "- <strong><font color='green'>BMI, Body Mass Index</font></strong>\n",
    "- Smoker, Have you smoked at least 100 cigarettes in your entire life, 0 = no, 1 = yes\n",
    "- Stroke, Ever told you had a stroke, 0 = no, 1 = yes\n",
    "- HeartDiseaseorAttack, coronary heart disease (CHD) or myocardial infarction (MI), 0 = no, 1 = yes\n",
    "- PhysActivity, physical activity in past 30 days - not including job, 0 = no, 1 = yes\n",
    "- Fruits, consume fruit 1 or more times per day, 0 = no, 1 = yes\n",
    "- Veggies, consume vegetables 1 or more times per day, 0 = no, 1 = yes\n",
    "- HvyAlcoholConsump, adult men >= 14 drinks per week and adult women >= 7 drinks per week, 0 = no, 1 = yes\n",
    "- AnyHealthcare, have any kind of heaalth care coverage including health insurance prepaid plans such as HMO, 0 = no, 1 = yes\n",
    "- NoDocbcCost, was there a time in the past 12 months when you needed to see a doctor but could not because of cost, 0 = no, 1 = yes\n",
    "- <font color='red'>GenHlth, would you say that in general your health is in scale 1-5, 1=excellent, 2=very good, 3=good, 4=fair, 5=poor</font>\n",
    "- <strong><font color='green'>MentHlth, days of poor mental health in scale 1-30 days</font></strong>\n",
    "- <strong><font color='green'>PhysHlth, physical illness or injury days in past 30 days in scale 1-30</font></strong>\n",
    "- DiffWalk, do you have serious difficulty walking or climbing stairs, 0 = no, 1 = yes\n",
    "- Sex, 0 = female, 1 = male\n",
    "- <font color='red'>Age, 13-level age category, 1 = 18-24, 9 = 60-64, 13 = 80 or older</font>\n",
    "- <font color='red'>Education, education level in scale 1-6, 1 = Never attended school or kindergarden, 2 = elementary etc.</font>\n",
    "- <font color='red'>Income, income in scale 1-8, 1 = less than 10 kUSD, 5 = less than 35 kUSD, 8 = 75 kUSD or more</font>"
   ]
  },
  {
   "cell_type": "markdown",
   "id": "f39c515e",
   "metadata": {},
   "source": [
    "### Relationships between features\n"
   ]
  },
  {
   "cell_type": "markdown",
   "id": "0d8c2708",
   "metadata": {},
   "source": [
    "Random Forrest Classifier used to find the most important features:\n",
    "- BMI is the most important feature to explain Diabetes\n",
    "- Age is the second most important feature to explain Diabetes "
   ]
  },
  {
   "cell_type": "code",
   "execution_count": 6,
   "id": "bc4e0994",
   "metadata": {},
   "outputs": [
    {
     "data": {
      "image/png": "[encoded data removed]",
      "text/plain": [
       "<Figure size 1584x792 with 1 Axes>"
      ]
     },
     "metadata": {
      "needs_background": "light"
     },
     "output_type": "display_data"
    }
   ],
   "source": [
    "# Split the data to Features and Target\n",
    "X, y = df.iloc[:, 1:], df.iloc[:, 0]\n",
    "\n",
    "# Train a random forest classifier\n",
    "clf = RandomForestClassifier(n_estimators=100, random_state=42)\n",
    "clf.fit(X, y)\n",
    "\n",
    "# Extract feature importances\n",
    "feature_importances = clf.feature_importances_\n",
    "\n",
    "# Create a heatmap of feature importances\n",
    "plt.figure(figsize=(22, 11))\n",
    "sns.heatmap([feature_importances], annot=True, cmap=\"YlGnBu\", xticklabels=X.columns, cbar=False)\n",
    "plt.title(\"Feature Importance Heatmap\")\n",
    "plt.show()"
   ]
  },
  {
   "cell_type": "markdown",
   "id": "4d3d825f",
   "metadata": {},
   "source": [
    "## Explotary Data Analysis\n",
    "\n",
    "Check first the Categorical values so that there are no errors (values out of given gatogories):\n",
    "- no errors found"
   ]
  },
  {
   "cell_type": "code",
   "execution_count": 7,
   "id": "16c84a09",
   "metadata": {},
   "outputs": [
    {
     "data": {
      "text/plain": [
       "Diabetes_binary                                       {0.0, 1.0}\n",
       "HighBP                                                {0.0, 1.0}\n",
       "HighChol                                              {0.0, 1.0}\n",
       "CholCheck                                             {0.0, 1.0}\n",
       "Smoker                                                {0.0, 1.0}\n",
       "Stroke                                                {0.0, 1.0}\n",
       "HeartDiseaseorAttack                                  {0.0, 1.0}\n",
       "PhysActivity                                          {0.0, 1.0}\n",
       "Fruits                                                {0.0, 1.0}\n",
       "HeartDiseaseorAttack                                  {0.0, 1.0}\n",
       "PhysActivity                                          {0.0, 1.0}\n",
       "Fruits                                                {0.0, 1.0}\n",
       "Veggies                                               {0.0, 1.0}\n",
       "HvyAlcoholConsump                                     {0.0, 1.0}\n",
       "AnyHealthcare                                         {0.0, 1.0}\n",
       "NoDocbcCost                                           {0.0, 1.0}\n",
       "AnyHealthcare                                         {0.0, 1.0}\n",
       "GenHlth                                {1.0, 2.0, 3.0, 4.0, 5.0}\n",
       "DiffWalk                                              {0.0, 1.0}\n",
       "Sex                                                   {0.0, 1.0}\n",
       "Education                         {1.0, 2.0, 3.0, 4.0, 5.0, 6.0}\n",
       "Income                  {1.0, 2.0, 3.0, 4.0, 5.0, 6.0, 7.0, 8.0}\n",
       "dtype: object"
      ]
     },
     "execution_count": 7,
     "metadata": {},
     "output_type": "execute_result"
    }
   ],
   "source": [
    "# Filter Categorical Factors\n",
    "df1 = df.filter(items=['Diabetes_binary', 'HighBP', 'HighChol', 'CholCheck', 'Smoker', 'Stroke', 'HeartDiseaseorAttack', \n",
    "                       'PhysActivity', 'Fruits', 'HeartDiseaseorAttack', 'PhysActivity', 'Fruits', 'Veggies', \n",
    "                       'HvyAlcoholConsump', 'AnyHealthcare', 'NoDocbcCost', 'AnyHealthcare', 'GenHlth', 'DiffWalk',\n",
    "                       'Sex', 'Education', 'Income'])\n",
    "\n",
    "# Show unique values of each Factor\n",
    "pd.Series(list(map(set,df1.values.T)),index=df1.columns)"
   ]
  },
  {
   "cell_type": "markdown",
   "id": "c5420b58",
   "metadata": {},
   "source": [
    "Checking Age separately as this will be used for testing:\n",
    "- Age group 9 having the most of the values\n",
    "\n",
    "    13-level age category, 1 = 18-24, 9 = 60-64, 13 = 80 or older"
   ]
  },
  {
   "cell_type": "code",
   "execution_count": 8,
   "id": "96049845",
   "metadata": {},
   "outputs": [
    {
     "name": "stdout",
     "output_type": "stream",
     "text": [
      "9.0     33244\n",
      "10.0    32194\n",
      "8.0     30832\n",
      "7.0     26314\n",
      "11.0    23533\n",
      "6.0     19819\n",
      "13.0    17363\n",
      "5.0     16157\n",
      "12.0    15980\n",
      "4.0     13823\n",
      "3.0     11123\n",
      "2.0      7598\n",
      "1.0      5700\n",
      "Name: Age, dtype: int64\n"
     ]
    }
   ],
   "source": [
    "# Show value counts of Age\n",
    "print(df.Age.value_counts())"
   ]
  },
  {
   "cell_type": "code",
   "execution_count": 9,
   "id": "9c1d6e66",
   "metadata": {},
   "outputs": [
    {
     "data": {
      "image/png": "[encoded data removed]",
      "text/plain": [
       "<Figure size 720x360 with 1 Axes>"
      ]
     },
     "metadata": {
      "needs_background": "light"
     },
     "output_type": "display_data"
    }
   ],
   "source": [
    "# Plot distribution of Age, show also Diabetes binary\n",
    "pd.crosstab(df['Age'] ,df['Diabetes_binary']).plot.bar()\n",
    "# Add labels and a title\n",
    "plt.title('Age distribution and Diabetes')\n",
    "plt.gcf().set_size_inches(10,5)\n",
    "plt.show()"
   ]
  },
  {
   "cell_type": "markdown",
   "id": "81b80278",
   "metadata": {},
   "source": [
    "Checking also the continuous Factors:\n",
    "- all Factors having outliers"
   ]
  },
  {
   "cell_type": "code",
   "execution_count": 10,
   "id": "85d557cc",
   "metadata": {},
   "outputs": [
    {
     "data": {
      "text/plain": [
       "<AxesSubplot:>"
      ]
     },
     "execution_count": 10,
     "metadata": {},
     "output_type": "execute_result"
    },
    {
     "data": {
      "image/png": "[encoded data removed]",
      "text/plain": [
       "<Figure size 288x432 with 1 Axes>"
      ]
     },
     "metadata": {
      "needs_background": "light"
     },
     "output_type": "display_data"
    }
   ],
   "source": [
    "# BoxPlot to show ourliers\n",
    "df1 = df.filter(items=['BMI'])\n",
    "plt.figure(figsize=(4, 6))\n",
    "sns.boxplot(data=df1) "
   ]
  },
  {
   "cell_type": "code",
   "execution_count": 11,
   "id": "bb303e41",
   "metadata": {},
   "outputs": [
    {
     "data": {
      "image/png": "[encoded data removed]",
      "text/plain": [
       "<Figure size 1800x720 with 1 Axes>"
      ]
     },
     "metadata": {
      "needs_background": "light"
     },
     "output_type": "display_data"
    }
   ],
   "source": [
    "# Plot distribution of BMI, show also Diabetes binary\n",
    "pd.crosstab(df['BMI'] ,df['Diabetes_binary']).plot.bar()\n",
    "# Add labels and a title\n",
    "plt.title('BMI distribution and Diabetes')\n",
    "plt.gcf().set_size_inches(25,10)\n",
    "plt.show()"
   ]
  },
  {
   "cell_type": "code",
   "execution_count": 12,
   "id": "88f776d7",
   "metadata": {},
   "outputs": [
    {
     "data": {
      "text/plain": [
       "<AxesSubplot:xlabel='Diabetes_binary', ylabel='BMI'>"
      ]
     },
     "execution_count": 12,
     "metadata": {},
     "output_type": "execute_result"
    },
    {
     "data": {
      "image/png": "[encoded data removed]",
      "text/plain": [
       "<Figure size 792x432 with 1 Axes>"
      ]
     },
     "metadata": {
      "needs_background": "light"
     },
     "output_type": "display_data"
    }
   ],
   "source": [
    "# Print ViolinPlot to show distribution of BMI\n",
    "plt.figure(figsize=(11, 6))\n",
    "sns.violinplot(data=df, y=\"BMI\", x=\"Diabetes_binary\")"
   ]
  },
  {
   "cell_type": "code",
   "execution_count": 13,
   "id": "90c98764",
   "metadata": {},
   "outputs": [
    {
     "name": "stdout",
     "output_type": "stream",
     "text": [
      "BMI is not normally distributed\n"
     ]
    },
    {
     "name": "stderr",
     "output_type": "stream",
     "text": [
      "C:\\Users\\Hannu\\anaconda3\\lib\\site-packages\\scipy\\stats\\_morestats.py:1761: UserWarning: p-value may not be accurate for N > 5000.\n",
      "  warnings.warn(\"p-value may not be accurate for N > 5000.\")\n"
     ]
    }
   ],
   "source": [
    "# Test the normality of BMI (just in case)\n",
    "df1 = df.filter(items=['BMI'])\n",
    "alpha = 0.05\n",
    "_, p_value = stats.shapiro(df1)\n",
    "if p_value < alpha:\n",
    "    print('BMI is not normally distributed')\n",
    "else:\n",
    "    print('BMI is normally distributed')"
   ]
  },
  {
   "cell_type": "markdown",
   "id": "e5e274a7",
   "metadata": {},
   "source": [
    "### Clean the data\n",
    "\n",
    "- No errors, dublicates or missing values"
   ]
  },
  {
   "cell_type": "markdown",
   "id": "5f39dfce",
   "metadata": {},
   "source": [
    "### Transformation\n",
    "\n",
    "- BMI, MentHlth and PhysHlth are having continuous values, all the rest are categorical\n",
    "- all the categorical are already numerical"
   ]
  },
  {
   "cell_type": "markdown",
   "id": "88558129",
   "metadata": {},
   "source": [
    "## Research question 1\n",
    "\n",
    "### Is there a relationship between people's Age-group and Diabetes?\n",
    "\n",
    "#### Hypothesis definition\n",
    "\n",
    "H0: There are significant association between Age-group and Diabetes\n",
    "\n",
    "H1: There are no significant association between Age-group and Diabetes"
   ]
  },
  {
   "cell_type": "code",
   "execution_count": 14,
   "id": "b06b0eec",
   "metadata": {},
   "outputs": [
    {
     "data": {
      "text/html": [
       "<div>\n",
       "<style scoped>\n",
       "    .dataframe tbody tr th:only-of-type {\n",
       "        vertical-align: middle;\n",
       "    }\n",
       "\n",
       "    .dataframe tbody tr th {\n",
       "        vertical-align: top;\n",
       "    }\n",
       "\n",
       "    .dataframe thead th {\n",
       "        text-align: right;\n",
       "    }\n",
       "</style>\n",
       "<table border=\"1\" class=\"dataframe\">\n",
       "  <thead>\n",
       "    <tr style=\"text-align: right;\">\n",
       "      <th>Age</th>\n",
       "      <th>1.0</th>\n",
       "      <th>2.0</th>\n",
       "      <th>3.0</th>\n",
       "      <th>4.0</th>\n",
       "      <th>5.0</th>\n",
       "      <th>6.0</th>\n",
       "      <th>7.0</th>\n",
       "      <th>8.0</th>\n",
       "      <th>9.0</th>\n",
       "      <th>10.0</th>\n",
       "      <th>11.0</th>\n",
       "      <th>12.0</th>\n",
       "      <th>13.0</th>\n",
       "    </tr>\n",
       "    <tr>\n",
       "      <th>Diabetes_binary</th>\n",
       "      <th></th>\n",
       "      <th></th>\n",
       "      <th></th>\n",
       "      <th></th>\n",
       "      <th></th>\n",
       "      <th></th>\n",
       "      <th></th>\n",
       "      <th></th>\n",
       "      <th></th>\n",
       "      <th></th>\n",
       "      <th></th>\n",
       "      <th></th>\n",
       "      <th></th>\n",
       "    </tr>\n",
       "  </thead>\n",
       "  <tbody>\n",
       "    <tr>\n",
       "      <th>0.0</th>\n",
       "      <td>5622</td>\n",
       "      <td>7458</td>\n",
       "      <td>10809</td>\n",
       "      <td>13197</td>\n",
       "      <td>15106</td>\n",
       "      <td>18077</td>\n",
       "      <td>23226</td>\n",
       "      <td>26569</td>\n",
       "      <td>27511</td>\n",
       "      <td>25636</td>\n",
       "      <td>18392</td>\n",
       "      <td>12577</td>\n",
       "      <td>14154</td>\n",
       "    </tr>\n",
       "    <tr>\n",
       "      <th>1.0</th>\n",
       "      <td>78</td>\n",
       "      <td>140</td>\n",
       "      <td>314</td>\n",
       "      <td>626</td>\n",
       "      <td>1051</td>\n",
       "      <td>1742</td>\n",
       "      <td>3088</td>\n",
       "      <td>4263</td>\n",
       "      <td>5733</td>\n",
       "      <td>6558</td>\n",
       "      <td>5141</td>\n",
       "      <td>3403</td>\n",
       "      <td>3209</td>\n",
       "    </tr>\n",
       "  </tbody>\n",
       "</table>\n",
       "</div>"
      ],
      "text/plain": [
       "Age              1.0   2.0    3.0    4.0    5.0    6.0    7.0    8.0    9.0   \\\n",
       "Diabetes_binary                                                                \n",
       "0.0              5622  7458  10809  13197  15106  18077  23226  26569  27511   \n",
       "1.0                78   140    314    626   1051   1742   3088   4263   5733   \n",
       "\n",
       "Age               10.0   11.0   12.0   13.0  \n",
       "Diabetes_binary                              \n",
       "0.0              25636  18392  12577  14154  \n",
       "1.0               6558   5141   3403   3209  "
      ]
     },
     "execution_count": 14,
     "metadata": {},
     "output_type": "execute_result"
    }
   ],
   "source": [
    "# Select the data\n",
    "contingency_table1 = pd.crosstab(df['Diabetes_binary'], df['Age'])\n",
    "contingency_table1"
   ]
  },
  {
   "cell_type": "markdown",
   "id": "235772d3",
   "metadata": {},
   "source": [
    "### Test selection\n",
    "\n",
    "As the data is Categorial, Chi-square test will be used.\n",
    "\n",
    "### Result of the test\n",
    "\n",
    "As test will show, there are significant association between Age-groups and Diabetes risk."
   ]
  },
  {
   "cell_type": "code",
   "execution_count": 15,
   "id": "87ebc1dc",
   "metadata": {},
   "outputs": [
    {
     "name": "stdout",
     "output_type": "stream",
     "text": [
      "\n",
      "Chi_S-value: 8795.1, Significance Level (alpha): 0.05, p-value: 0.0\n",
      "Accept H0, There are significant association between Age-groups and Diabetes.\n"
     ]
    }
   ],
   "source": [
    "# Using Chi-square test, test the hypothesis\n",
    "stat, p, dof, expected = chi2_contingency(contingency_table1)\n",
    "\n",
    "# interpret p-value\n",
    "alpha = 0.05\n",
    "print(f\"\\nChi_S-value: {stat.round(1)}, Significance Level (alpha): {alpha}, p-value: {p}\")\n",
    "if p <= alpha:\n",
    "    print('Accept H0, There are significant association between Age-groups and Diabetes.')\n",
    "else:\n",
    "    print('Reject H0, There are no significant association between Age-groups and Diabetes.')"
   ]
  },
  {
   "cell_type": "code",
   "execution_count": 16,
   "id": "c5be1948",
   "metadata": {},
   "outputs": [
    {
     "name": "stdout",
     "output_type": "stream",
     "text": [
      "Age               1.0   2.0\n",
      "Diabetes_binary            \n",
      "0.0              5622  7458\n",
      "1.0                78   140\n",
      "\n",
      "Chi_S-value: 4.3, Significance Level (alpha): 0.05, p-value: 0.03920842364689037\n",
      "Accept H0, There are significant association between Age-groups and Diabetes.\n"
     ]
    }
   ],
   "source": [
    "# Data for additional check with younger people\n",
    "contingency_table2 = contingency_table1.iloc[:, 0:2]\n",
    "print(contingency_table2)\n",
    "\n",
    "# Using Chi-square test, test the hypothesis\n",
    "stat, p, dof, expected = chi2_contingency(contingency_table2)\n",
    "\n",
    "# interpret p-value\n",
    "alpha = 0.05\n",
    "print(f\"\\nChi_S-value: {stat.round(1)}, Significance Level (alpha): {alpha}, p-value: {p}\")\n",
    "if p <= alpha:\n",
    "    print('Accept H0, There are significant association between Age-groups and Diabetes.')\n",
    "else:\n",
    "    print('Reject H0, There are no significant association between Age-groups and Diabetes.')"
   ]
  },
  {
   "cell_type": "markdown",
   "id": "abc91b09",
   "metadata": {},
   "source": [
    "## Research question 2\n",
    "\n",
    "### Is there a relationship between people's BMI and Diabetes?\n",
    "\n",
    "#### Hypothesis definition\n",
    "\n",
    "H0: There are no significant difference in means between between BMI-groups and Diabetes\n",
    "\n",
    "H1: There is a significant difference in means between BMI-groups and Diabetes"
   ]
  },
  {
   "cell_type": "code",
   "execution_count": 17,
   "id": "3bd13dd4",
   "metadata": {},
   "outputs": [
    {
     "data": {
      "text/plain": [
       "array([12., 13., 14., 15., 16., 17., 18., 19., 20., 21., 22., 23., 24.,\n",
       "       25., 26., 27., 28., 29., 30., 31., 32., 33., 34., 35., 36., 37.,\n",
       "       38., 39., 40., 41., 42., 43., 44., 45., 46., 47., 48., 49., 50.,\n",
       "       51., 52., 53., 54., 55., 56., 57., 58., 59., 60., 61., 62., 63.,\n",
       "       64., 65., 66., 67., 68., 69., 70., 71., 72., 73., 74., 75., 76.,\n",
       "       77., 78., 79., 80., 81., 82., 83., 84., 85., 86., 87., 88., 89.,\n",
       "       90., 91., 92., 95., 96., 98.])"
      ]
     },
     "execution_count": 17,
     "metadata": {},
     "output_type": "execute_result"
    }
   ],
   "source": [
    "# Show value counts of BMI\n",
    "np.sort(df.BMI.unique())"
   ]
  },
  {
   "attachments": {
    "image.png": {
     "image/png": "[encoded data removed]"
    }
   },
   "cell_type": "markdown",
   "id": "d9a7b623",
   "metadata": {},
   "source": [
    "![image.png](attachment:image.png)"
   ]
  },
  {
   "cell_type": "markdown",
   "id": "da3cd22e",
   "metadata": {},
   "source": [
    "Check if BMI-level can be found which is not having significant association between BMI-groups and Diabetes."
   ]
  },
  {
   "cell_type": "code",
   "execution_count": 19,
   "id": "9bd5eaa0",
   "metadata": {},
   "outputs": [],
   "source": [
    "# Data\n",
    "upper = 18.5\n",
    "df_eva = df.loc[(df['BMI'] > 0) & (df['BMI'] < upper)]\n",
    "df_eva1 = df_eva[['Diabetes_binary']]['Diabetes_binary']\n",
    "df_eva2 = df_eva[['BMI']]['BMI']"
   ]
  },
  {
   "cell_type": "code",
   "execution_count": 21,
   "id": "42cd894b",
   "metadata": {},
   "outputs": [
    {
     "name": "stdout",
     "output_type": "stream",
     "text": [
      "\n",
      "F_statistics: 854887.5, P_value: 0.0, alpha: 0.05\n",
      "\n",
      "Reject H0, There is at-least one BMI-goup which has different mean!\n"
     ]
    }
   ],
   "source": [
    "# Using Anova-test do test between different Buildings\n",
    "F_Stat, p_value = stats.f_oneway(df_eva1, df_eva2)\n",
    "F_Stat = round(F_Stat, 1)\n",
    "p_value = round(p_value, 3)\n",
    "\n",
    "# interpret p-value\n",
    "alpha = 0.05\n",
    "\n",
    "print(f'\\nF_statistics: {F_Stat}, P_value: {p_value}, alpha: {alpha}\\n')\n",
    "\n",
    "if p_value < alpha:\n",
    "    print('Reject H0, There is at-least one BMI-goup which has different mean!')\n",
    "else:\n",
    "    print('Accept H0, all the BMI-goup have equal means!')"
   ]
  },
  {
   "cell_type": "markdown",
   "id": "bf5762a3",
   "metadata": {},
   "source": [
    "### Result of the test\n",
    "\n",
    "Even in second lowest level of BMI there are at least one BMI-group having different mean and there are association between BMI-groups and Diabetes."
   ]
  },
  {
   "cell_type": "code",
   "execution_count": null,
   "id": "dc1a1a02",
   "metadata": {},
   "outputs": [],
   "source": []
  }
 ],
 "metadata": {
  "kernelspec": {
   "display_name": "Python 3",
   "language": "python",
   "name": "python3"
  },
  "language_info": {
   "codemirror_mode": {
    "name": "ipython",
    "version": 3
   },
   "file_extension": ".py",
   "mimetype": "text/x-python",
   "name": "python",
   "nbconvert_exporter": "python",
   "pygments_lexer": "ipython3",
   "version": "3.8.8"
  }
 },
 "nbformat": 4,
 "nbformat_minor": 5
}
